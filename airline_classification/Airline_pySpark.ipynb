{
 "cells": [
  {
   "cell_type": "code",
   "execution_count": 69,
   "metadata": {},
   "outputs": [],
   "source": [
    "import pyspark\n",
    "import pandas as pd \n",
    "from pyspark.sql import SparkSession \n",
    "from pyspark.context import SparkContext\n",
    "from pyspark.sql import functions\n",
    "from pyspark.sql.types import * \n",
    "\n",
    "\n",
    "\n"
   ]
  },
  {
   "cell_type": "code",
   "execution_count": 3,
   "metadata": {},
   "outputs": [],
   "source": [
    "spark = SparkSession.builder.master(\"local\")\\\n",
    "    .appName(\"Airline_data\")\\\n",
    "    .getOrCreate()"
   ]
  },
  {
   "cell_type": "code",
   "execution_count": 33,
   "metadata": {},
   "outputs": [],
   "source": [
    "df = spark.read.csv(\"Airline.csv\", header=True, inferSchema=True)"
   ]
  },
  {
   "cell_type": "code",
   "execution_count": 67,
   "metadata": {
    "collapsed": true
   },
   "outputs": [
    {
     "name": "stdout",
     "output_type": "stream",
     "text": [
      "root\n",
      " |-- Year: integer (nullable = true)\n",
      " |-- Quarter: integer (nullable = true)\n",
      " |-- Month: integer (nullable = true)\n",
      " |-- DayofMonth: integer (nullable = true)\n",
      " |-- DayOfWeek: integer (nullable = true)\n",
      " |-- FlightDate: string (nullable = true)\n",
      " |-- UniqueCarrier: string (nullable = true)\n",
      " |-- Carrier: string (nullable = true)\n",
      " |-- TailNum: string (nullable = true)\n",
      " |-- FlightNum: integer (nullable = true)\n",
      " |-- Origin: string (nullable = true)\n",
      " |-- OriginCityName: string (nullable = true)\n",
      " |-- OriginState: string (nullable = true)\n",
      " |-- OriginStateFips: integer (nullable = true)\n",
      " |-- OriginStateName: string (nullable = true)\n",
      " |-- OriginWac: integer (nullable = true)\n",
      " |-- Dest: string (nullable = true)\n",
      " |-- DestCityName: string (nullable = true)\n",
      " |-- DestState: string (nullable = true)\n",
      " |-- DestStateFips: integer (nullable = true)\n",
      " |-- DestStateName: string (nullable = true)\n",
      " |-- DestWac: integer (nullable = true)\n",
      " |-- CRSDepTime: integer (nullable = true)\n",
      " |-- DepTime: string (nullable = true)\n",
      " |-- DepDelay: float (nullable = true)\n",
      " |-- DepDelayMinutes: string (nullable = true)\n",
      " |-- DepDel15: integer (nullable = true)\n",
      " |-- DepartureDelayGroups: string (nullable = true)\n",
      " |-- DepTimeBlk: string (nullable = true)\n",
      " |-- TaxiOut: float (nullable = true)\n",
      " |-- WheelsOff: string (nullable = true)\n",
      " |-- WheelsOn: float (nullable = true)\n",
      " |-- TaxiIn: float (nullable = true)\n",
      " |-- CRSArrTime: integer (nullable = true)\n",
      " |-- ArrTime: string (nullable = true)\n",
      " |-- ArrDelay: string (nullable = true)\n",
      " |-- ArrDelayMinutes: string (nullable = true)\n",
      " |-- ArrDel15: integer (nullable = true)\n",
      " |-- ArrivalDelayGroups: string (nullable = true)\n",
      " |-- ArrTimeBlk: string (nullable = true)\n",
      " |-- Cancelled: integer (nullable = true)\n",
      " |-- CancellationCode: string (nullable = true)\n",
      " |-- Diverted: integer (nullable = true)\n",
      " |-- CRSElapsedTime: float (nullable = true)\n",
      " |-- ActualElapsedTime: string (nullable = true)\n",
      " |-- AirTime: string (nullable = true)\n",
      " |-- Flights: integer (nullable = true)\n",
      " |-- Distance: integer (nullable = true)\n",
      " |-- DistanceGroup: integer (nullable = true)\n",
      " |-- CarrierDelay: string (nullable = true)\n",
      " |-- WeatherDelay: string (nullable = true)\n",
      " |-- NASDelay: string (nullable = true)\n",
      " |-- SecurityDelay: string (nullable = true)\n",
      " |-- LateAircraftDelay: string (nullable = true)\n",
      " |-- FirstDepTime: string (nullable = true)\n",
      " |-- TotalAddGTime: string (nullable = true)\n",
      " |-- LongestAddGTime: string (nullable = true)\n",
      " |-- DivAirportLandings: integer (nullable = true)\n",
      " |-- DivReachedDest: string (nullable = true)\n",
      " |-- DivActualElapsedTime: string (nullable = true)\n",
      " |-- DivArrDelay: string (nullable = true)\n",
      " |-- DivDistance: string (nullable = true)\n",
      " |-- Div1Airport: string (nullable = true)\n",
      " |-- Div1WheelsOn: string (nullable = true)\n",
      " |-- Div1TotalGTime: string (nullable = true)\n",
      " |-- Div1LongestGTime: string (nullable = true)\n",
      " |-- Div1WheelsOff: string (nullable = true)\n",
      " |-- Div1TailNum: string (nullable = true)\n",
      " |-- Div2Airport: string (nullable = true)\n",
      " |-- Div2WheelsOn: string (nullable = true)\n",
      " |-- Div2TotalGTime: string (nullable = true)\n",
      " |-- Div2LongestGTime: string (nullable = true)\n",
      "\n"
     ]
    }
   ],
   "source": [
    "df.printSchema()"
   ]
  },
  {
   "cell_type": "code",
   "execution_count": 35,
   "metadata": {},
   "outputs": [
    {
     "name": "stdout",
     "output_type": "stream",
     "text": [
      "5000 83\n"
     ]
    }
   ],
   "source": [
    "print(df.count(),len(df.columns))\n"
   ]
  },
  {
   "cell_type": "code",
   "execution_count": 52,
   "metadata": {},
   "outputs": [
    {
     "name": "stdout",
     "output_type": "stream",
     "text": [
      "rimuovere :  ['AirlineID', 'OriginAirportID', 'OriginAirportSeqID', 'OriginCityMarketID', 'DestAirportID', 'DestAirportSeqID', 'DestCityMarketID', 'Div1AirportID', 'Div1AirportSeqID', 'Div2AirportID', 'Div2AirportSeqID']\n"
     ]
    }
   ],
   "source": [
    "ids = [i for i in df.columns if \"ID\" in i]\n",
    "print(\"rimuovere : \", ids)"
   ]
  },
  {
   "cell_type": "code",
   "execution_count": 58,
   "metadata": {},
   "outputs": [
    {
     "name": "stdout",
     "output_type": "stream",
     "text": [
      "72\n"
     ]
    }
   ],
   "source": [
    "df = df.drop(*ids)\n",
    "print(len(df.columns))"
   ]
  },
  {
   "cell_type": "code",
   "execution_count": 65,
   "metadata": {},
   "outputs": [],
   "source": [
    "to_int = [\"DestStateFips\", \"DestWac\",\"CRSDepTime\",\"DepDel15\",\"ArrDel15\",\"Cancelled\",\"Flights\"]\n",
    "for i in to_int: \n",
    "    df = df.withColumn(i, col(i).cast('int'))\n"
   ]
  },
  {
   "cell_type": "code",
   "execution_count": 66,
   "metadata": {},
   "outputs": [],
   "source": [
    "to_float = [\"DepDelay\", \"TaxiOut\",\"WheelsOn\",\"TaxiIn\",\"CRSElapsedTime\"]\n",
    "for i in to_float: \n",
    "    df = df.withColumn(i, col(i).cast('float'))\n"
   ]
  },
  {
   "cell_type": "code",
   "execution_count": 89,
   "metadata": {},
   "outputs": [],
   "source": [
    "df_num = df.select(to_int + to_float)"
   ]
  },
  {
   "cell_type": "code",
   "execution_count": 90,
   "metadata": {},
   "outputs": [
    {
     "name": "stdout",
     "output_type": "stream",
     "text": [
      "root\n",
      " |-- DestStateFips: integer (nullable = true)\n",
      " |-- DestWac: integer (nullable = true)\n",
      " |-- CRSDepTime: integer (nullable = true)\n",
      " |-- DepDel15: integer (nullable = true)\n",
      " |-- ArrDel15: integer (nullable = true)\n",
      " |-- Cancelled: integer (nullable = true)\n",
      " |-- Flights: integer (nullable = true)\n",
      " |-- DepDelay: float (nullable = true)\n",
      " |-- TaxiOut: float (nullable = true)\n",
      " |-- WheelsOn: float (nullable = true)\n",
      " |-- TaxiIn: float (nullable = true)\n",
      " |-- CRSElapsedTime: float (nullable = true)\n",
      "\n"
     ]
    }
   ],
   "source": [
    "df_num.printSchema()"
   ]
  },
  {
   "cell_type": "code",
   "execution_count": 120,
   "metadata": {
    "collapsed": true
   },
   "outputs": [
    {
     "name": "stdout",
     "output_type": "stream",
     "text": [
      "+-------------+-------+----------+--------+--------+---------+-------+--------+-------+--------+------+--------------+\n",
      "|DestStateFips|DestWac|CRSDepTime|DepDel15|ArrDel15|Cancelled|Flights|DepDelay|TaxiOut|WheelsOn|TaxiIn|CRSElapsedTime|\n",
      "+-------------+-------+----------+--------+--------+---------+-------+--------+-------+--------+------+--------------+\n",
      "|           26|     43|      1100|       0|       0|        0|      1|    -3.0|   15.0|  1424.0|   8.0|         158.0|\n",
      "|           26|     43|      1100|       0|       0|        0|      1|    -4.0|   14.0|  1416.0|  10.0|         158.0|\n",
      "|           26|     43|      1100|       0|       0|        0|      1|    -5.0|   21.0|  1431.0|  14.0|         158.0|\n",
      "|           26|     43|      1100|       0|       0|        0|      1|     2.0|   13.0|  1424.0|   9.0|         158.0|\n",
      "|           26|     43|      1100|       1|       1|        0|      1|   100.0|   20.0|  1617.0|  14.0|         158.0|\n",
      "|           26|     43|      1100|       0|       0|        0|      1|     7.0|   11.0|  1426.0|   9.0|         158.0|\n",
      "|           26|     43|      1100|       0|       0|        0|      1|    -1.0|   14.0|  1429.0|   9.0|         158.0|\n",
      "|           26|     43|      1100|       0|       0|        0|      1|    -5.0|   12.0|  1419.0|  12.0|         158.0|\n",
      "|           26|     43|      1100|       0|       0|        0|      1|    -2.0|   12.0|  1420.0|   8.0|         158.0|\n",
      "|           26|     43|      1100|       0|       0|        0|      1|    -4.0|   14.0|  1423.0|  11.0|         158.0|\n",
      "|           26|     43|      1100|       0|       0|        0|      1|    -4.0|   18.0|  1412.0|  11.0|         158.0|\n",
      "|           26|     43|      1100|       0|       0|        0|      1|    -7.0|   24.0|  1427.0|   8.0|         158.0|\n",
      "|           26|     43|      1100|       0|       0|        0|      1|    -5.0|   14.0|  1427.0|   9.0|         158.0|\n",
      "|           26|     43|      1100|       0|       0|        0|      1|    14.0|   14.0|  1434.0|   8.0|         158.0|\n",
      "|           26|     43|      1100|       0|       0|        0|      1|    -6.0|   23.0|  1433.0|   9.0|         158.0|\n",
      "|           26|     43|      1100|       1|       1|        0|      1|    34.0|   12.0|  1449.0|  10.0|         158.0|\n",
      "|           26|     43|      1100|       0|       0|        0|      1|    -5.0|   17.0|  1423.0|   8.0|         158.0|\n",
      "|           26|     43|      1100|       0|       0|        0|      1|    -7.0|   11.0|  1425.0|   7.0|         158.0|\n",
      "|           26|     43|      1100|       0|       0|        0|      1|    10.0|    9.0|  1431.0|   7.0|         158.0|\n",
      "|           26|     43|      1100|       0|       0|        0|      1|    -1.0|   16.0|  1416.0|   8.0|         158.0|\n",
      "|           26|     43|      1100|       0|       0|        0|      1|    -4.0|   16.0|  1411.0|   8.0|         158.0|\n",
      "|           26|     43|      1100|       0|       0|        0|      1|     1.0|    9.0|  1431.0|   6.0|         158.0|\n",
      "|           26|     43|      1100|       0|       1|        0|      1|     0.0|   17.0|  1444.0|   9.0|         158.0|\n",
      "|           26|     43|      1100|       0|       0|        0|      1|    -2.0|   13.0|  1422.0|  11.0|         158.0|\n",
      "|           26|     43|      1100|       1|       1|        0|      1|    64.0|   18.0|  1530.0|  11.0|         158.0|\n",
      "|           26|     43|      1100|       0|       0|        0|      1|     0.0|   11.0|  1422.0|  10.0|         158.0|\n",
      "|           48|     74|      1513|       1|       1|        0|      1|    26.0|   42.0|  1750.0|   6.0|         191.0|\n",
      "|           48|     74|      1513|       0|       0|        0|      1|    -4.0|   12.0|  1647.0|   4.0|         191.0|\n",
      "|           48|     74|      1513|       0|       0|        0|      1|     2.0|   19.0|  1659.0|   4.0|         191.0|\n",
      "|           48|     74|      1513|       0|       0|        0|      1|    -4.0|   13.0|  1637.0|   4.0|         191.0|\n",
      "|           48|     74|      1523|       0|       0|        0|      1|    -4.0|   19.0|  1700.0|   8.0|         187.0|\n",
      "|           48|     74|      1523|       0|       0|        0|      1|    -2.0|   20.0|  1708.0|  13.0|         187.0|\n",
      "|           48|     74|      1523|       0|       0|        0|      1|    -4.0|   16.0|  1659.0|   6.0|         187.0|\n",
      "|           48|     74|      1523|       0|       0|        0|      1|    -2.0|   24.0|  1722.0|   6.0|         187.0|\n",
      "|           48|     74|      1523|       0|       0|        0|      1|    -1.0|    9.0|  1706.0|  10.0|         187.0|\n",
      "|           48|     74|      1523|       1|       1|        0|      1|   120.0|   34.0|  1918.0|   8.0|         187.0|\n",
      "|           48|     74|      1523|       0|       0|        0|      1|     3.0|   16.0|  1705.0|   9.0|         187.0|\n",
      "|           48|     74|      1523|       0|       0|        0|      1|    -1.0|   18.0|  1659.0|  16.0|         187.0|\n",
      "|           48|     74|      1523|       0|       0|        0|      1|    -2.0|   11.0|  1647.0|   6.0|         187.0|\n",
      "|           48|     74|      1523|       0|       0|        0|      1|    -4.0|   11.0|  1655.0|   8.0|         187.0|\n",
      "|           48|     74|      1523|       0|       0|        0|      1|    -1.0|   12.0|  1704.0|   6.0|         187.0|\n",
      "|           48|     74|      1523|       0|       0|        0|      1|     0.0|   15.0|  1716.0|   5.0|         187.0|\n",
      "|           48|     74|      1523|       0|       0|        0|      1|    -6.0|   10.0|  1704.0|   4.0|         187.0|\n",
      "|           48|     74|      1523|       0|       0|        0|      1|     2.0|   28.0|  1705.0|   7.0|         187.0|\n",
      "|           48|     74|      1523|       0|       0|        0|      1|    -1.0|   20.0|  1718.0|  15.0|         187.0|\n",
      "|           48|     74|      1523|       0|       0|        0|      1|     0.0|   34.0|  1728.0|  16.0|         187.0|\n",
      "|           48|     74|      1523|       1|       1|        0|      1|    23.0|   34.0|  1801.0|   8.0|         187.0|\n",
      "|           48|     74|      1523|       0|       0|        0|      1|     0.0|   18.0|  1653.0|   7.0|         187.0|\n",
      "|           48|     74|      1523|       0|       0|        0|      1|    -8.0|   21.0|  1646.0|   7.0|         187.0|\n",
      "|           48|     74|      1523|       0|       0|        0|      1|    -3.0|   20.0|  1705.0|  18.0|         187.0|\n",
      "|           48|     74|      1523|       0|       0|        0|      1|    -5.0|   11.0|  1704.0|   4.0|         187.0|\n",
      "|           48|     74|      1523|       0|       0|        0|      1|    -4.0|   11.0|  1715.0|   5.0|         187.0|\n",
      "|           48|     74|      1523|       0|       0|        0|      1|    -5.0|   11.0|  1637.0|   6.0|         187.0|\n",
      "|           48|     74|      1523|       0|       0|        0|      1|    12.0|   33.0|  1725.0|   6.0|         187.0|\n",
      "|           48|     74|      1523|       0|       0|        0|      1|    -2.0|   19.0|  1702.0|   6.0|         187.0|\n",
      "|           48|     74|      1523|       1|       1|        0|      1|    66.0|   13.0|  1808.0|   5.0|         187.0|\n",
      "|           48|     74|      1523|       0|       0|        0|      1|     0.0|   22.0|  1721.0|  15.0|         187.0|\n",
      "|           36|     22|       745|       0|       0|        0|      1|    -4.0|   28.0|  1603.0|   7.0|         317.0|\n",
      "|           36|     22|       745|       0|       0|        0|      1|    -8.0|   27.0|  1556.0|  17.0|         317.0|\n",
      "|           36|     22|       745|       0|       0|        0|      1|    -2.0|   19.0|  1539.0|   8.0|         317.0|\n",
      "|           36|     22|       745|       0|       0|        0|      1|    -8.0|   15.0|  1546.0|   5.0|         317.0|\n",
      "|           36|     22|       710|       0|       0|        0|      1|    -2.0|   15.0|  1519.0|   5.0|         317.0|\n",
      "|           36|     22|       710|       0|       0|        0|      1|    -7.0|   17.0|  1514.0|   4.0|         317.0|\n",
      "|           36|     22|       710|       0|       0|        0|      1|    -6.0|   16.0|  1517.0|   5.0|         317.0|\n",
      "|           36|     22|       710|       0|       0|        0|      1|    -9.0|   22.0|  1518.0|   9.0|         317.0|\n",
      "|           36|     22|       710|       0|       0|        0|      1|    -7.0|   30.0|  1521.0|  15.0|         317.0|\n",
      "|           36|     22|       710|       0|       1|        0|      1|     1.0|   15.0|  1601.0|  10.0|         317.0|\n",
      "|           36|     22|       710|       0|       0|        0|      1|    -1.0|   18.0|  1514.0|   5.0|         317.0|\n",
      "|           36|     22|       645|       0|       0|        0|      1|    -9.0|   21.0|  1445.0|   7.0|         321.0|\n",
      "|           36|     22|       645|       0|       0|        0|      1|    -6.0|   14.0|  1436.0|   5.0|         321.0|\n",
      "|           36|     22|       645|       1|       1|        0|      1|    52.0|   19.0|  1530.0|   7.0|         321.0|\n",
      "|           36|     22|       645|       0|       0|        0|      1|    -6.0|   20.0|  1444.0|   7.0|         321.0|\n",
      "|           36|     22|       640|    null|    null|        1|      1|    null|   null|    null|  null|         321.0|\n",
      "|           36|     22|       645|       1|       1|        0|      1|    43.0|   16.0|  1525.0|   7.0|         321.0|\n",
      "|           36|     22|       645|       0|       0|        0|      1|    -4.0|   19.0|  1433.0|   6.0|         321.0|\n",
      "|           36|     22|       645|       0|       0|        0|      1|    -7.0|   16.0|  1441.0|   6.0|         321.0|\n",
      "|           36|     22|       645|       0|       0|        0|      1|   -10.0|   16.0|  1434.0|   7.0|         321.0|\n",
      "|           36|     22|       645|       0|       0|        0|      1|    -8.0|   17.0|  1437.0|   8.0|         321.0|\n",
      "|           36|     22|       645|       1|       1|        0|      1|   344.0|   15.0|  2031.0|  10.0|         321.0|\n",
      "|           36|     22|       640|    null|    null|        1|      1|    null|   null|    null|  null|         321.0|\n",
      "|           36|     22|       645|    null|    null|        1|      1|    null|   null|    null|  null|         321.0|\n",
      "|           36|     22|       645|    null|    null|        1|      1|    null|   null|    null|  null|         321.0|\n",
      "|           36|     22|       645|       0|       0|        0|      1|     4.0|   19.0|  1456.0|   7.0|         321.0|\n",
      "|           36|     22|       645|       0|       0|        0|      1|    -4.0|   13.0|  1436.0|   7.0|         321.0|\n",
      "|           36|     22|       645|       0|       0|        0|      1|    -7.0|   21.0|  1433.0|   4.0|         321.0|\n",
      "|           36|     22|       645|       0|       0|        0|      1|   -10.0|   16.0|  1436.0|   5.0|         321.0|\n",
      "|           36|     22|       640|       0|       0|        0|      1|    -5.0|   25.0|  1440.0|   5.0|         321.0|\n",
      "|           36|     22|       645|       0|       0|        0|      1|    -6.0|   20.0|  1432.0|   7.0|         321.0|\n",
      "|           53|     93|      1825|       0|       0|        0|      1|    -6.0|   32.0|  2115.0|  10.0|         385.0|\n",
      "|           53|     93|      1825|       1|       1|        0|      1|    64.0|   25.0|  2228.0|  18.0|         385.0|\n",
      "|           53|     93|      1825|       1|       1|        0|      1|    31.0|   32.0|  2205.0|  41.0|         385.0|\n",
      "|           53|     93|      1825|       1|       1|        0|      1|    46.0|   40.0|  2217.0|  10.0|         385.0|\n",
      "|           53|     93|      1820|       0|       0|        0|      1|     6.0|   18.0|  2111.0|  13.0|         382.0|\n",
      "|           53|     93|      1820|       0|       0|        0|      1|     2.0|   19.0|  2108.0|   9.0|         382.0|\n",
      "|           53|     93|      1830|       0|       0|        0|      1|     0.0|   24.0|  2117.0|  10.0|         382.0|\n",
      "|           53|     93|      1830|       0|       0|        0|      1|    -8.0|   25.0|  2101.0|   5.0|         382.0|\n",
      "|           53|     93|      1830|       1|       1|        0|      1|    60.0|   33.0|  2220.0|   6.0|         382.0|\n",
      "|           53|     93|      1830|       1|       1|        0|      1|   122.0|   24.0|  2316.0|   9.0|         382.0|\n",
      "|           53|     93|      1820|       0|       0|        0|      1|     2.0|   27.0|  2144.0|   6.0|         382.0|\n",
      "|           53|     93|      1820|       1|       1|        0|      1|    44.0|   17.0|  2239.0|  13.0|         382.0|\n",
      "+-------------+-------+----------+--------+--------+---------+-------+--------+-------+--------+------+--------------+\n",
      "only showing top 100 rows\n",
      "\n"
     ]
    }
   ],
   "source": [
    "df_num.show(100)"
   ]
  },
  {
   "cell_type": "code",
   "execution_count": 121,
   "metadata": {},
   "outputs": [],
   "source": [
    "df_num = df_num.na.fill(0)"
   ]
  },
  {
   "cell_type": "code",
   "execution_count": 105,
   "metadata": {},
   "outputs": [
    {
     "name": "stdout",
     "output_type": "stream",
     "text": [
      "[]\n"
     ]
    }
   ],
   "source": [
    "toDrop = []\n",
    "for i in range(len(df_num.columns)):\n",
    "    for j in range(i) :\n",
    "       # print(df_num.columns[i], df_num.columns[j])\n",
    "       # print(df_num.stat.corr(df_num.columns[i], df_num.columns[j]))\n",
    "        if abs(df_num.stat.corr(df_num.columns[i], df_num.columns[j]))> 0.8:\n",
    "               toDrop.append(df_num.columns[i])\n",
    "print(toDrop)"
   ]
  },
  {
   "cell_type": "code",
   "execution_count": 133,
   "metadata": {},
   "outputs": [
    {
     "data": {
      "text/plain": [
       "['DestStateFips',\n",
       " 'DestWac',\n",
       " 'CRSDepTime',\n",
       " 'DepDel15',\n",
       " 'ArrDel15',\n",
       " 'Cancelled',\n",
       " 'Flights',\n",
       " 'DepDelay',\n",
       " 'TaxiOut',\n",
       " 'WheelsOn',\n",
       " 'TaxiIn',\n",
       " 'CRSElapsedTime']"
      ]
     },
     "execution_count": 133,
     "metadata": {},
     "output_type": "execute_result"
    }
   ],
   "source": [
    "to_int  + to_float"
   ]
  },
  {
   "cell_type": "code",
   "execution_count": 144,
   "metadata": {
    "collapsed": true
   },
   "outputs": [
    {
     "name": "stdout",
     "output_type": "stream",
     "text": [
      "+-------------+-------+----------+--------+--------+---------+-------+--------+-------+--------+------+--------------+--------------------+\n",
      "|DestStateFips|DestWac|CRSDepTime|DepDel15|ArrDel15|Cancelled|Flights|DepDelay|TaxiOut|WheelsOn|TaxiIn|CRSElapsedTime|            features|\n",
      "+-------------+-------+----------+--------+--------+---------+-------+--------+-------+--------+------+--------------+--------------------+\n",
      "|           26|     43|      1100|       0|       0|        0|      1|    -3.0|   15.0|  1424.0|   8.0|         158.0|[26.0,43.0,1100.0...|\n",
      "|           26|     43|      1100|       0|       0|        0|      1|    -4.0|   14.0|  1416.0|  10.0|         158.0|[26.0,43.0,1100.0...|\n",
      "|           26|     43|      1100|       0|       0|        0|      1|    -5.0|   21.0|  1431.0|  14.0|         158.0|[26.0,43.0,1100.0...|\n",
      "|           26|     43|      1100|       0|       0|        0|      1|     2.0|   13.0|  1424.0|   9.0|         158.0|[26.0,43.0,1100.0...|\n",
      "|           26|     43|      1100|       1|       1|        0|      1|   100.0|   20.0|  1617.0|  14.0|         158.0|[26.0,43.0,1100.0...|\n",
      "+-------------+-------+----------+--------+--------+---------+-------+--------+-------+--------+------+--------------+--------------------+\n",
      "only showing top 5 rows\n",
      "\n"
     ]
    }
   ],
   "source": [
    "from pyspark.ml.feature  import VectorAssembler\n",
    "assembler = VectorAssembler().setInputCols(['DestStateFips','DestWac','CRSDepTime','DepDel15',\\\n",
    "                                           'Cancelled','Flights','DepDelay','TaxiOut','WheelsOn','TaxiIn','CRSElapsedTime'])\\\n",
    ".setOutputCol(\"features\")\n",
    "\n",
    "df_num = assembler.transform(df_num)\n",
    "df_num.show(5)"
   ]
  },
  {
   "cell_type": "code",
   "execution_count": 152,
   "metadata": {},
   "outputs": [],
   "source": [
    "\n",
    "train,test = df_num.randomSplit([0.7,0.3], seed=900)"
   ]
  },
  {
   "cell_type": "code",
   "execution_count": 153,
   "metadata": {},
   "outputs": [
    {
     "data": {
      "text/plain": [
       "3486"
      ]
     },
     "execution_count": 153,
     "metadata": {},
     "output_type": "execute_result"
    }
   ],
   "source": [
    "train.count()"
   ]
  },
  {
   "cell_type": "code",
   "execution_count": 171,
   "metadata": {},
   "outputs": [
    {
     "name": "stdout",
     "output_type": "stream",
     "text": [
      "[0.93, 0.922, 0.937, 0.936, 0.94, 0.933, 0.931, 0.928, 0.929, 0.935]\n"
     ]
    }
   ],
   "source": [
    "from pyspark.ml.classification import LogisticRegression \n",
    "import random as rnd\n",
    "acc=[]\n",
    "for i in range(10):\n",
    "    train,test = df_num.randomSplit([0.7,0.3], seed=rnd.randint(1,300))\n",
    "    logit = LogisticRegression(featuresCol = \"features\", labelCol = \"ArrDel15\")\n",
    "    model = logit.fit(train)\n",
    "    pred = model.transform(test)\n",
    "    accuracy = pred.filter(pred.ArrDel15 == pred.prediction).count() / pred.count()\n",
    "    acc.append(round(accuracy,3))\n",
    "print(acc)"
   ]
  },
  {
   "cell_type": "code",
   "execution_count": null,
   "metadata": {},
   "outputs": [],
   "source": []
  },
  {
   "cell_type": "code",
   "execution_count": null,
   "metadata": {},
   "outputs": [],
   "source": []
  },
  {
   "cell_type": "code",
   "execution_count": null,
   "metadata": {},
   "outputs": [],
   "source": []
  },
  {
   "cell_type": "code",
   "execution_count": null,
   "metadata": {},
   "outputs": [],
   "source": []
  }
 ],
 "metadata": {
  "kernelspec": {
   "display_name": "Python 3",
   "language": "python",
   "name": "python3"
  },
  "language_info": {
   "codemirror_mode": {
    "name": "ipython",
    "version": 3
   },
   "file_extension": ".py",
   "mimetype": "text/x-python",
   "name": "python",
   "nbconvert_exporter": "python",
   "pygments_lexer": "ipython3",
   "version": "3.7.6"
  }
 },
 "nbformat": 4,
 "nbformat_minor": 4
}
