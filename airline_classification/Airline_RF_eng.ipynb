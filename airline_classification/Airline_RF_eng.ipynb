{
 "cells": [
  {
   "cell_type": "code",
   "execution_count": null,
   "metadata": {},
   "outputs": [],
   "source": [
    "import pandas as pd \n",
    "import numpy as np \n",
    "import pymysql\n",
    "import seaborn as sn\n",
    "import matplotlib.pyplot as plt\n",
    "from sklearn.preprocessing import StandardScaler\n",
    "from sklearn.model_selection import train_test_split\n",
    "from sklearn.utils import resample\n",
    "import random as rnd\n",
    "from sklearn.ensemble import RandomForestClassifier"
   ]
  },
  {
   "cell_type": "code",
   "execution_count": 3,
   "metadata": {},
   "outputs": [],
   "source": [
    "## I get the data from the sql database\n",
    "connection = pymysql.connect(host = 'relational.fit.cvut.cz', port = 3306, user ='guest',password = 'relational')\n",
    "Airline = pd.read_sql_query('SELECT * FROM Airline.On_Time_On_Time_Performance_2016_1', connection)"
   ]
  },
  {
   "cell_type": "code",
   "execution_count": 4,
   "metadata": {},
   "outputs": [
    {
     "data": {
      "text/plain": [
       "(445827, 83)"
      ]
     },
     "execution_count": 4,
     "metadata": {},
     "output_type": "execute_result"
    }
   ],
   "source": [
    "Airline.shape"
   ]
  },
  {
   "cell_type": "code",
   "execution_count": 5,
   "metadata": {
    "collapsed": true
   },
   "outputs": [
    {
     "name": "stdout",
     "output_type": "stream",
     "text": [
      "<class 'pandas.core.frame.DataFrame'>\n",
      "RangeIndex: 445827 entries, 0 to 445826\n",
      "Data columns (total 83 columns):\n",
      " #   Column                Non-Null Count   Dtype  \n",
      "---  ------                --------------   -----  \n",
      " 0   Year                  445827 non-null  int64  \n",
      " 1   Quarter               445827 non-null  int64  \n",
      " 2   Month                 445827 non-null  int64  \n",
      " 3   DayofMonth            445827 non-null  int64  \n",
      " 4   DayOfWeek             445827 non-null  int64  \n",
      " 5   FlightDate            445827 non-null  object \n",
      " 6   UniqueCarrier         445827 non-null  object \n",
      " 7   AirlineID             445827 non-null  int64  \n",
      " 8   Carrier               445827 non-null  object \n",
      " 9   TailNum               441583 non-null  object \n",
      " 10  FlightNum             445827 non-null  int64  \n",
      " 11  OriginAirportID       445827 non-null  int64  \n",
      " 12  OriginAirportSeqID    445827 non-null  int64  \n",
      " 13  OriginCityMarketID    445827 non-null  int64  \n",
      " 14  Origin                445827 non-null  object \n",
      " 15  OriginCityName        445827 non-null  object \n",
      " 16  OriginState           445827 non-null  object \n",
      " 17  OriginStateFips       445827 non-null  int64  \n",
      " 18  OriginStateName       445827 non-null  object \n",
      " 19  OriginWac             445827 non-null  int64  \n",
      " 20  DestAirportID         445827 non-null  int64  \n",
      " 21  DestAirportSeqID      445827 non-null  int64  \n",
      " 22  DestCityMarketID      445827 non-null  int64  \n",
      " 23  Dest                  445827 non-null  object \n",
      " 24  DestCityName          445827 non-null  object \n",
      " 25  DestState             445827 non-null  object \n",
      " 26  DestStateFips         445827 non-null  int64  \n",
      " 27  DestStateName         445827 non-null  object \n",
      " 28  DestWac               445827 non-null  int64  \n",
      " 29  CRSDepTime            445827 non-null  int64  \n",
      " 30  DepTime               434354 non-null  float64\n",
      " 31  DepDelay              434354 non-null  float64\n",
      " 32  DepDelayMinutes       434354 non-null  float64\n",
      " 33  DepDel15              434354 non-null  float64\n",
      " 34  DepartureDelayGroups  434354 non-null  float64\n",
      " 35  DepTimeBlk            445827 non-null  object \n",
      " 36  TaxiOut               434227 non-null  float64\n",
      " 37  WheelsOff             434227 non-null  float64\n",
      " 38  WheelsOn              433920 non-null  float64\n",
      " 39  TaxiIn                433920 non-null  float64\n",
      " 40  CRSArrTime            445827 non-null  int64  \n",
      " 41  ArrTime               433920 non-null  float64\n",
      " 42  ArrDelay              433298 non-null  float64\n",
      " 43  ArrDelayMinutes       433298 non-null  float64\n",
      " 44  ArrDel15              433298 non-null  float64\n",
      " 45  ArrivalDelayGroups    433298 non-null  float64\n",
      " 46  ArrTimeBlk            445827 non-null  object \n",
      " 47  Cancelled             445827 non-null  int64  \n",
      " 48  CancellationCode      11665 non-null   object \n",
      " 49  Diverted              445827 non-null  int64  \n",
      " 50  CRSElapsedTime        445827 non-null  float64\n",
      " 51  ActualElapsedTime     433298 non-null  float64\n",
      " 52  AirTime               433298 non-null  float64\n",
      " 53  Flights               445827 non-null  float64\n",
      " 54  Distance              445827 non-null  float64\n",
      " 55  DistanceGroup         445827 non-null  int64  \n",
      " 56  CarrierDelay          70882 non-null   float64\n",
      " 57  WeatherDelay          70882 non-null   float64\n",
      " 58  NASDelay              70882 non-null   float64\n",
      " 59  SecurityDelay         70882 non-null   float64\n",
      " 60  LateAircraftDelay     70882 non-null   float64\n",
      " 61  FirstDepTime          2552 non-null    float64\n",
      " 62  TotalAddGTime         2552 non-null    float64\n",
      " 63  LongestAddGTime       2552 non-null    float64\n",
      " 64  DivAirportLandings    445827 non-null  int64  \n",
      " 65  DivReachedDest        864 non-null     float64\n",
      " 66  DivActualElapsedTime  622 non-null     float64\n",
      " 67  DivArrDelay           622 non-null     float64\n",
      " 68  DivDistance           864 non-null     float64\n",
      " 69  Div1Airport           929 non-null     object \n",
      " 70  Div1AirportID         929 non-null     float64\n",
      " 71  Div1AirportSeqID      929 non-null     float64\n",
      " 72  Div1WheelsOn          929 non-null     float64\n",
      " 73  Div1TotalGTime        929 non-null     float64\n",
      " 74  Div1LongestGTime      929 non-null     float64\n",
      " 75  Div1WheelsOff         628 non-null     float64\n",
      " 76  Div1TailNum           628 non-null     object \n",
      " 77  Div2Airport           6 non-null       object \n",
      " 78  Div2AirportID         6 non-null       float64\n",
      " 79  Div2AirportSeqID      6 non-null       float64\n",
      " 80  Div2WheelsOn          6 non-null       float64\n",
      " 81  Div2TotalGTime        6 non-null       float64\n",
      " 82  Div2LongestGTime      6 non-null       float64\n",
      "dtypes: float64(42), int64(23), object(18)\n",
      "memory usage: 282.3+ MB\n"
     ]
    }
   ],
   "source": [
    "Airline.info()"
   ]
  },
  {
   "cell_type": "code",
   "execution_count": 7,
   "metadata": {
    "collapsed": true
   },
   "outputs": [
    {
     "name": "stdout",
     "output_type": "stream",
     "text": [
      "<class 'pandas.core.frame.DataFrame'>\n",
      "RangeIndex: 445827 entries, 0 to 445826\n",
      "Data columns (total 56 columns):\n",
      " #   Column                Non-Null Count   Dtype  \n",
      "---  ------                --------------   -----  \n",
      " 0   Year                  445827 non-null  int64  \n",
      " 1   Quarter               445827 non-null  int64  \n",
      " 2   Month                 445827 non-null  int64  \n",
      " 3   DayofMonth            445827 non-null  int64  \n",
      " 4   DayOfWeek             445827 non-null  int64  \n",
      " 5   FlightDate            445827 non-null  object \n",
      " 6   UniqueCarrier         445827 non-null  object \n",
      " 7   AirlineID             445827 non-null  int64  \n",
      " 8   Carrier               445827 non-null  object \n",
      " 9   TailNum               441583 non-null  object \n",
      " 10  FlightNum             445827 non-null  int64  \n",
      " 11  OriginAirportID       445827 non-null  int64  \n",
      " 12  OriginAirportSeqID    445827 non-null  int64  \n",
      " 13  OriginCityMarketID    445827 non-null  int64  \n",
      " 14  Origin                445827 non-null  object \n",
      " 15  OriginCityName        445827 non-null  object \n",
      " 16  OriginState           445827 non-null  object \n",
      " 17  OriginStateFips       445827 non-null  int64  \n",
      " 18  OriginStateName       445827 non-null  object \n",
      " 19  OriginWac             445827 non-null  int64  \n",
      " 20  DestAirportID         445827 non-null  int64  \n",
      " 21  DestAirportSeqID      445827 non-null  int64  \n",
      " 22  DestCityMarketID      445827 non-null  int64  \n",
      " 23  Dest                  445827 non-null  object \n",
      " 24  DestCityName          445827 non-null  object \n",
      " 25  DestState             445827 non-null  object \n",
      " 26  DestStateFips         445827 non-null  int64  \n",
      " 27  DestStateName         445827 non-null  object \n",
      " 28  DestWac               445827 non-null  int64  \n",
      " 29  CRSDepTime            445827 non-null  int64  \n",
      " 30  DepTime               434354 non-null  float64\n",
      " 31  DepDelay              434354 non-null  float64\n",
      " 32  DepDelayMinutes       434354 non-null  float64\n",
      " 33  DepDel15              434354 non-null  float64\n",
      " 34  DepartureDelayGroups  434354 non-null  float64\n",
      " 35  DepTimeBlk            445827 non-null  object \n",
      " 36  TaxiOut               434227 non-null  float64\n",
      " 37  WheelsOff             434227 non-null  float64\n",
      " 38  WheelsOn              433920 non-null  float64\n",
      " 39  TaxiIn                433920 non-null  float64\n",
      " 40  CRSArrTime            445827 non-null  int64  \n",
      " 41  ArrTime               433920 non-null  float64\n",
      " 42  ArrDelay              433298 non-null  float64\n",
      " 43  ArrDelayMinutes       433298 non-null  float64\n",
      " 44  ArrDel15              433298 non-null  float64\n",
      " 45  ArrivalDelayGroups    433298 non-null  float64\n",
      " 46  ArrTimeBlk            445827 non-null  object \n",
      " 47  Cancelled             445827 non-null  int64  \n",
      " 48  Diverted              445827 non-null  int64  \n",
      " 49  CRSElapsedTime        445827 non-null  float64\n",
      " 50  ActualElapsedTime     433298 non-null  float64\n",
      " 51  AirTime               433298 non-null  float64\n",
      " 52  Flights               445827 non-null  float64\n",
      " 53  Distance              445827 non-null  float64\n",
      " 54  DistanceGroup         445827 non-null  int64  \n",
      " 55  DivAirportLandings    445827 non-null  int64  \n",
      "dtypes: float64(19), int64(23), object(14)\n",
      "memory usage: 190.5+ MB\n"
     ]
    }
   ],
   "source": [
    "## I only keep variables with null values less than 20 % \n",
    "X= Airline.loc[:, (Airline.shape[0] - Airline.isna().sum()) > (Airline.shape[0]*0.20) ]\n",
    "X.info()"
   ]
  },
  {
   "cell_type": "code",
   "execution_count": 8,
   "metadata": {},
   "outputs": [],
   "source": [
    "## the goal is to predict which flight will be on a delay of more than 15 minutes, \n",
    "## therefore the target variabile Y will be ArrDel15 and will be dropped from the dataframe.\n",
    "\n",
    "X = X.dropna(subset = [\"ArrDel15\"])\n",
    "X[\"ArrDel15\"] = X[\"ArrDel15\"].astype(int)\n",
    "Y = X[\"ArrDel15\"]\n"
   ]
  },
  {
   "cell_type": "code",
   "execution_count": 9,
   "metadata": {
    "scrolled": false
   },
   "outputs": [
    {
     "data": {
      "text/plain": [
       "<BarContainer object of 2 artists>"
      ]
     },
     "execution_count": 9,
     "metadata": {},
     "output_type": "execute_result"
    },
    {
     "data": {
      "image/png": "[encoded data removed]",
      "text/plain": [
       "<Figure size 432x288 with 1 Axes>"
      ]
     },
     "metadata": {
      "needs_background": "light"
     },
     "output_type": "display_data"
    }
   ],
   "source": [
    "\n",
    "plt.bar([\"Delay\", \"Not delay\"],[Y.sum(), Airline.shape[0]], color= [\"red\", \"blue\"])"
   ]
  },
  {
   "cell_type": "code",
   "execution_count": 10,
   "metadata": {},
   "outputs": [
    {
     "name": "stdout",
     "output_type": "stream",
     "text": [
      "362416 70882\n",
      "70882 70882\n"
     ]
    }
   ],
   "source": [
    "## since the dataset is very unbalanced I use resample \n",
    "\n",
    "class0 = X[Y==0]\n",
    "class1 = X[Y==1]\n",
    "\n",
    "print(len(class0), len(class1))\n",
    "\n",
    "rnd.seed(39)\n",
    "X0_ds = resample(class0, replace = False, n_samples = len(class1))\n",
    "print(len(X0_ds),len(class1))\n",
    "X_b = pd.concat([X0_ds, class1])\n",
    "Y_b= Y[X_b.index]"
   ]
  },
  {
   "cell_type": "code",
   "execution_count": 11,
   "metadata": {},
   "outputs": [
    {
     "data": {
      "image/png": "[encoded data removed]",
      "text/plain": [
       "<Figure size 432x288 with 2 Axes>"
      ]
     },
     "metadata": {
      "needs_background": "light"
     },
     "output_type": "display_data"
    }
   ],
   "source": [
    "X_cor = X_b.corr()\n",
    "sn.heatmap(X_cor)\n",
    "plt.show()"
   ]
  },
  {
   "cell_type": "code",
   "execution_count": 12,
   "metadata": {},
   "outputs": [
    {
     "name": "stdout",
     "output_type": "stream",
     "text": [
      "{'WheelsOff', 'ActualElapsedTime', 'DistanceGroup', 'DepartureDelayGroups', 'ArrTime', 'ArrDelayMinutes', 'ArrivalDelayGroups', 'Distance', 'DepDelayMinutes', 'DestAirportSeqID', 'OriginAirportSeqID', 'ArrDelay', 'AirTime', 'DepTime'}\n"
     ]
    }
   ],
   "source": [
    "## I calculate the Pearson correlation among the variables and I exclude those higher than 80 % \n",
    "\n",
    "to_drop = set()\n",
    "for i in range(len(X_cor.columns)):\n",
    "    for j in range(i):\n",
    "        if abs(X_cor.iloc[i,j]) > 0.80:\n",
    "            to_drop.add(X_cor.columns[i])\n",
    "        \n",
    "print(to_drop)"
   ]
  },
  {
   "cell_type": "code",
   "execution_count": 13,
   "metadata": {},
   "outputs": [
    {
     "name": "stdout",
     "output_type": "stream",
     "text": [
      "<class 'pandas.core.frame.DataFrame'>\n",
      "Int64Index: 141764 entries, 222846 to 445823\n",
      "Data columns (total 42 columns):\n",
      " #   Column              Non-Null Count   Dtype  \n",
      "---  ------              --------------   -----  \n",
      " 0   Year                141764 non-null  int64  \n",
      " 1   Quarter             141764 non-null  int64  \n",
      " 2   Month               141764 non-null  int64  \n",
      " 3   DayofMonth          141764 non-null  int64  \n",
      " 4   DayOfWeek           141764 non-null  int64  \n",
      " 5   FlightDate          141764 non-null  object \n",
      " 6   UniqueCarrier       141764 non-null  object \n",
      " 7   AirlineID           141764 non-null  int64  \n",
      " 8   Carrier             141764 non-null  object \n",
      " 9   TailNum             141764 non-null  object \n",
      " 10  FlightNum           141764 non-null  int64  \n",
      " 11  OriginAirportID     141764 non-null  int64  \n",
      " 12  OriginCityMarketID  141764 non-null  int64  \n",
      " 13  Origin              141764 non-null  object \n",
      " 14  OriginCityName      141764 non-null  object \n",
      " 15  OriginState         141764 non-null  object \n",
      " 16  OriginStateFips     141764 non-null  int64  \n",
      " 17  OriginStateName     141764 non-null  object \n",
      " 18  OriginWac           141764 non-null  int64  \n",
      " 19  DestAirportID       141764 non-null  int64  \n",
      " 20  DestCityMarketID    141764 non-null  int64  \n",
      " 21  Dest                141764 non-null  object \n",
      " 22  DestCityName        141764 non-null  object \n",
      " 23  DestState           141764 non-null  object \n",
      " 24  DestStateFips       141764 non-null  int64  \n",
      " 25  DestStateName       141764 non-null  object \n",
      " 26  DestWac             141764 non-null  int64  \n",
      " 27  CRSDepTime          141764 non-null  int64  \n",
      " 28  DepDelay            141764 non-null  float64\n",
      " 29  DepDel15            141764 non-null  float64\n",
      " 30  DepTimeBlk          141764 non-null  object \n",
      " 31  TaxiOut             141764 non-null  float64\n",
      " 32  WheelsOn            141764 non-null  float64\n",
      " 33  TaxiIn              141764 non-null  float64\n",
      " 34  CRSArrTime          141764 non-null  int64  \n",
      " 35  ArrDel15            141764 non-null  int32  \n",
      " 36  ArrTimeBlk          141764 non-null  object \n",
      " 37  Cancelled           141764 non-null  int64  \n",
      " 38  Diverted            141764 non-null  int64  \n",
      " 39  CRSElapsedTime      141764 non-null  float64\n",
      " 40  Flights             141764 non-null  float64\n",
      " 41  DivAirportLandings  141764 non-null  int64  \n",
      "dtypes: float64(7), int32(1), int64(20), object(14)\n",
      "memory usage: 46.0+ MB\n"
     ]
    }
   ],
   "source": [
    "X_b.drop(list(to_drop),axis=1, inplace=True)\n",
    "X_b.info()"
   ]
  },
  {
   "cell_type": "code",
   "execution_count": 14,
   "metadata": {},
   "outputs": [
    {
     "name": "stdout",
     "output_type": "stream",
     "text": [
      "<class 'pandas.core.frame.DataFrame'>\n",
      "Int64Index: 141764 entries, 222846 to 445823\n",
      "Data columns (total 7 columns):\n",
      " #   Column          Non-Null Count   Dtype  \n",
      "---  ------          --------------   -----  \n",
      " 0   DepDelay        141764 non-null  float64\n",
      " 1   DepDel15        141764 non-null  float64\n",
      " 2   TaxiOut         141764 non-null  float64\n",
      " 3   WheelsOn        141764 non-null  float64\n",
      " 4   TaxiIn          141764 non-null  float64\n",
      " 5   CRSElapsedTime  141764 non-null  float64\n",
      " 6   Flights         141764 non-null  float64\n",
      "dtypes: float64(7)\n",
      "memory usage: 8.7 MB\n"
     ]
    }
   ],
   "source": [
    "## I only keep the numeric columns\n",
    "\n",
    "X_num = X_b.select_dtypes(include=['float64'])\n",
    "X_num.info()"
   ]
  },
  {
   "cell_type": "code",
   "execution_count": 15,
   "metadata": {},
   "outputs": [
    {
     "data": {
      "text/html": [
       "<div>\n",
       "<style scoped>\n",
       "    .dataframe tbody tr th:only-of-type {\n",
       "        vertical-align: middle;\n",
       "    }\n",
       "\n",
       "    .dataframe tbody tr th {\n",
       "        vertical-align: top;\n",
       "    }\n",
       "\n",
       "    .dataframe thead th {\n",
       "        text-align: right;\n",
       "    }\n",
       "</style>\n",
       "<table border=\"1\" class=\"dataframe\">\n",
       "  <thead>\n",
       "    <tr style=\"text-align: right;\">\n",
       "      <th></th>\n",
       "      <th>DepDelay</th>\n",
       "      <th>DepDel15</th>\n",
       "      <th>TaxiOut</th>\n",
       "      <th>WheelsOn</th>\n",
       "      <th>TaxiIn</th>\n",
       "      <th>CRSElapsedTime</th>\n",
       "      <th>Flights</th>\n",
       "    </tr>\n",
       "  </thead>\n",
       "  <tbody>\n",
       "    <tr>\n",
       "      <th>count</th>\n",
       "      <td>141764.000000</td>\n",
       "      <td>141764.000000</td>\n",
       "      <td>141764.000000</td>\n",
       "      <td>141764.000000</td>\n",
       "      <td>141764.000000</td>\n",
       "      <td>141764.000000</td>\n",
       "      <td>141764.0</td>\n",
       "    </tr>\n",
       "    <tr>\n",
       "      <th>mean</th>\n",
       "      <td>26.525550</td>\n",
       "      <td>0.402056</td>\n",
       "      <td>18.728690</td>\n",
       "      <td>1515.781136</td>\n",
       "      <td>7.871596</td>\n",
       "      <td>147.240131</td>\n",
       "      <td>1.0</td>\n",
       "    </tr>\n",
       "    <tr>\n",
       "      <th>std</th>\n",
       "      <td>59.034834</td>\n",
       "      <td>0.490315</td>\n",
       "      <td>12.372592</td>\n",
       "      <td>544.660485</td>\n",
       "      <td>7.114407</td>\n",
       "      <td>77.441617</td>\n",
       "      <td>0.0</td>\n",
       "    </tr>\n",
       "    <tr>\n",
       "      <th>min</th>\n",
       "      <td>-46.000000</td>\n",
       "      <td>0.000000</td>\n",
       "      <td>1.000000</td>\n",
       "      <td>1.000000</td>\n",
       "      <td>1.000000</td>\n",
       "      <td>21.000000</td>\n",
       "      <td>1.0</td>\n",
       "    </tr>\n",
       "    <tr>\n",
       "      <th>25%</th>\n",
       "      <td>-3.000000</td>\n",
       "      <td>0.000000</td>\n",
       "      <td>11.000000</td>\n",
       "      <td>1133.000000</td>\n",
       "      <td>4.000000</td>\n",
       "      <td>90.000000</td>\n",
       "      <td>1.0</td>\n",
       "    </tr>\n",
       "    <tr>\n",
       "      <th>50%</th>\n",
       "      <td>4.000000</td>\n",
       "      <td>0.000000</td>\n",
       "      <td>15.000000</td>\n",
       "      <td>1579.500000</td>\n",
       "      <td>6.000000</td>\n",
       "      <td>129.000000</td>\n",
       "      <td>1.0</td>\n",
       "    </tr>\n",
       "    <tr>\n",
       "      <th>75%</th>\n",
       "      <td>36.000000</td>\n",
       "      <td>1.000000</td>\n",
       "      <td>22.000000</td>\n",
       "      <td>1947.000000</td>\n",
       "      <td>9.000000</td>\n",
       "      <td>181.000000</td>\n",
       "      <td>1.0</td>\n",
       "    </tr>\n",
       "    <tr>\n",
       "      <th>max</th>\n",
       "      <td>1663.000000</td>\n",
       "      <td>1.000000</td>\n",
       "      <td>158.000000</td>\n",
       "      <td>2400.000000</td>\n",
       "      <td>155.000000</td>\n",
       "      <td>705.000000</td>\n",
       "      <td>1.0</td>\n",
       "    </tr>\n",
       "  </tbody>\n",
       "</table>\n",
       "</div>"
      ],
      "text/plain": [
       "            DepDelay       DepDel15        TaxiOut       WheelsOn  \\\n",
       "count  141764.000000  141764.000000  141764.000000  141764.000000   \n",
       "mean       26.525550       0.402056      18.728690    1515.781136   \n",
       "std        59.034834       0.490315      12.372592     544.660485   \n",
       "min       -46.000000       0.000000       1.000000       1.000000   \n",
       "25%        -3.000000       0.000000      11.000000    1133.000000   \n",
       "50%         4.000000       0.000000      15.000000    1579.500000   \n",
       "75%        36.000000       1.000000      22.000000    1947.000000   \n",
       "max      1663.000000       1.000000     158.000000    2400.000000   \n",
       "\n",
       "              TaxiIn  CRSElapsedTime   Flights  \n",
       "count  141764.000000   141764.000000  141764.0  \n",
       "mean        7.871596      147.240131       1.0  \n",
       "std         7.114407       77.441617       0.0  \n",
       "min         1.000000       21.000000       1.0  \n",
       "25%         4.000000       90.000000       1.0  \n",
       "50%         6.000000      129.000000       1.0  \n",
       "75%         9.000000      181.000000       1.0  \n",
       "max       155.000000      705.000000       1.0  "
      ]
     },
     "execution_count": 15,
     "metadata": {},
     "output_type": "execute_result"
    }
   ],
   "source": [
    "X_num.describe()"
   ]
  },
  {
   "cell_type": "code",
   "execution_count": 16,
   "metadata": {},
   "outputs": [
    {
     "name": "stdout",
     "output_type": "stream",
     "text": [
      "<class 'pandas.core.frame.DataFrame'>\n",
      "Int64Index: 141764 entries, 222846 to 445823\n",
      "Data columns (total 5 columns):\n",
      " #   Column          Non-Null Count   Dtype  \n",
      "---  ------          --------------   -----  \n",
      " 0   DepDelay        141764 non-null  float64\n",
      " 1   TaxiOut         141764 non-null  float64\n",
      " 2   WheelsOn        141764 non-null  float64\n",
      " 3   TaxiIn          141764 non-null  float64\n",
      " 4   CRSElapsedTime  141764 non-null  float64\n",
      "dtypes: float64(5)\n",
      "memory usage: 6.5 MB\n"
     ]
    }
   ],
   "source": [
    "X_num = X_num.drop([\"Flights\",\"DepDel15\"],axis=1)\n",
    "X_num.info()"
   ]
  },
  {
   "cell_type": "code",
   "execution_count": 17,
   "metadata": {},
   "outputs": [],
   "source": [
    "## scaling of the data\n",
    "scaler = StandardScaler()\n",
    "X_std = scaler.fit_transform(X_num)"
   ]
  },
  {
   "cell_type": "code",
   "execution_count": 22,
   "metadata": {},
   "outputs": [
    {
     "name": "stdout",
     "output_type": "stream",
     "text": [
      "[[88.36, 90.85, 91.41, 91.5, 91.74, 91.72, 91.8, 91.86, 91.72, 91.73, 91.83, 91.82, 91.8, 91.87, 91.88, 91.9, 91.93, 91.84, 91.87, 91.97], [88.38, 90.93, 91.23, 91.49, 91.47, 91.49, 91.55, 91.63, 91.59, 91.76, 91.73, 91.67, 91.73, 91.72, 91.82, 91.75, 91.76, 91.72, 91.76, 91.76], [88.35, 90.95, 91.34, 91.48, 91.55, 91.65, 91.71, 91.77, 91.7, 91.73, 91.8, 91.83, 91.77, 91.84, 91.79, 91.78, 91.73, 91.74, 91.84, 91.8], [88.45, 91.0, 91.21, 91.41, 91.51, 91.57, 91.62, 91.53, 91.58, 91.54, 91.67, 91.72, 91.68, 91.65, 91.72, 91.7, 91.66, 91.72, 91.66, 91.63], [88.24, 90.65, 90.92, 91.21, 91.32, 91.34, 91.34, 91.5, 91.43, 91.48, 91.48, 91.43, 91.44, 91.52, 91.55, 91.54, 91.6, 91.51, 91.59, 91.54]]\n"
     ]
    }
   ],
   "source": [
    "## I use the random froest classifier with various random split and number of base decision tree\n",
    "stimatori = range(2,100,5)\n",
    "scoreRF= []\n",
    "for i in range(5):\n",
    "    train_X,test_X,train_Y, test_Y = train_test_split(X_std, Y_b,train_size=0.7, test_size=0.3,random_state=i)\n",
    "    scores=[]\n",
    "    for j in stimatori:\n",
    "        clf_RF = RandomForestClassifier(n_estimators=j)\n",
    "        clf_RF.fit(train_X,train_Y)\n",
    "        pred_Y=clf_RF.predict(test_X)\n",
    "        #scoreRF.append(round(clf_RF.score(test_X,test_Y)*100,2))\n",
    "        scores.append(round((1 -(test_Y!=pred_Y).mean())*100,2))\n",
    "    scoreRF.append(scores)\n",
    "print(scoreRF)"
   ]
  },
  {
   "cell_type": "code",
   "execution_count": 23,
   "metadata": {},
   "outputs": [
    {
     "data": {
      "text/plain": [
       "<matplotlib.legend.Legend at 0x1eb6deb36c8>"
      ]
     },
     "execution_count": 23,
     "metadata": {},
     "output_type": "execute_result"
    },
    {
     "data": {
      "image/png": "[encoded data removed]",
      "text/plain": [
       "<Figure size 432x288 with 1 Axes>"
      ]
     },
     "metadata": {
      "needs_background": "light"
     },
     "output_type": "display_data"
    }
   ],
   "source": [
    "for i in range(5):\n",
    "    plt.plot(stimatori, scoreRF[i], label = \"serie \" + str(i))\n",
    "plt.legend()"
   ]
  },
  {
   "cell_type": "code",
   "execution_count": 39,
   "metadata": {},
   "outputs": [
    {
     "data": {
      "text/plain": [
       "<matplotlib.lines.Line2D at 0x1eb6dcad448>"
      ]
     },
     "execution_count": 39,
     "metadata": {},
     "output_type": "execute_result"
    },
    {
     "data": {
      "image/png": "[encoded data removed]",
      "text/plain": [
       "<Figure size 432x288 with 1 Axes>"
      ]
     },
     "metadata": {
      "needs_background": "light"
     },
     "output_type": "display_data"
    }
   ],
   "source": [
    "score_array = np.array(scoreRF)\n",
    "plt.plot(stimatori,score_array.mean(axis=0))\n",
    "plt.axvline(x=stimatori[score_array.mean(axis=0).argmax()],color='red')"
   ]
  },
  {
   "cell_type": "code",
   "execution_count": 36,
   "metadata": {},
   "outputs": [
    {
     "name": "stdout",
     "output_type": "stream",
     "text": [
      "[88.356 90.876 91.222 91.418 91.518 91.554 91.604 91.658 91.604 91.648\n",
      " 91.702 91.694 91.684 91.72  91.752 91.734 91.736 91.706 91.744 91.74 ]\n"
     ]
    },
    {
     "data": {
      "text/plain": [
       "88.35600000000001"
      ]
     },
     "execution_count": 36,
     "metadata": {},
     "output_type": "execute_result"
    }
   ],
   "source": [
    "print(score_array.mean(axis=0))\n",
    "score_array.mean(axis=0).argmax()"
   ]
  },
  {
   "cell_type": "code",
   "execution_count": 38,
   "metadata": {},
   "outputs": [
    {
     "data": {
      "text/plain": [
       "72"
      ]
     },
     "execution_count": 38,
     "metadata": {},
     "output_type": "execute_result"
    }
   ],
   "source": [
    "stimatori[score_array.mean(axis=0).argmax()]"
   ]
  },
  {
   "cell_type": "code",
   "execution_count": 47,
   "metadata": {},
   "outputs": [
    {
     "name": "stdout",
     "output_type": "stream",
     "text": [
      "[91.79, 91.8, 91.78, 91.7, 91.57, 91.65, 91.78, 91.75, 91.75, 91.88, 91.61, 91.81] [88.33, 88.46, 88.3, 88.28, 88.3, 88.23, 88.22, 88.01, 88.48, 88.68, 88.17, 88.32]\n"
     ]
    }
   ],
   "source": [
    "best = stimatori[score_array.mean(axis=0).argmax()]\n",
    "worst = stimatori[score_array.mean(axis=0).argmin()]\n",
    "\n",
    "score_b = []\n",
    "score_w = []\n",
    "\n",
    "rnd.seed(89)\n",
    "\n",
    "for i in range(12):\n",
    "    train_X,test_X,train_Y, test_Y = train_test_split(X_std, Y_b,train_size=0.7, test_size=0.3,random_state=i )\n",
    "    Rfc_b = RandomForestClassifier(n_estimators=best)\n",
    "    Rfc_w = RandomForestClassifier(n_estimators= worst)\n",
    "    Rfc_b.fit(train_X,train_Y)\n",
    "    Rfc_w.fit(train_X,train_Y)\n",
    "    score_b.append(round(Rfc_b.score(test_X,test_Y)*100,2))\n",
    "    score_w.append(round(Rfc_w.score(test_X,test_Y)*100,2))\n",
    "\n",
    "print(score_b,score_w)"
   ]
  },
  {
   "cell_type": "code",
   "execution_count": 50,
   "metadata": {},
   "outputs": [
    {
     "data": {
      "text/plain": [
       "WilcoxonResult(statistic=0.0, pvalue=0.002200340526906492)"
      ]
     },
     "execution_count": 50,
     "metadata": {},
     "output_type": "execute_result"
    }
   ],
   "source": [
    "from scipy.stats import wilcoxon\n",
    "wilcoxon(score_b,score_w)\n",
    "## according to the WilCoxon test, there is a significative difference in the median of the two series"
   ]
  },
  {
   "cell_type": "code",
   "execution_count": null,
   "metadata": {},
   "outputs": [],
   "source": []
  },
  {
   "cell_type": "code",
   "execution_count": null,
   "metadata": {},
   "outputs": [],
   "source": []
  }
 ],
 "metadata": {
  "kernelspec": {
   "display_name": "my-torch",
   "language": "python",
   "name": "python3"
  },
  "language_info": {
   "codemirror_mode": {
    "name": "ipython",
    "version": 3
   },
   "file_extension": ".py",
   "mimetype": "text/x-python",
   "name": "python",
   "nbconvert_exporter": "python",
   "pygments_lexer": "ipython3",
   "version": "3.9.12"
  },
  "vscode": {
   "interpreter": {
    "hash": "0f7a8eb80a2b7d6447aa3133180b499f2cc9fffbc113955096a8871bc3b3d896"
   }
  }
 },
 "nbformat": 4,
 "nbformat_minor": 4
}
